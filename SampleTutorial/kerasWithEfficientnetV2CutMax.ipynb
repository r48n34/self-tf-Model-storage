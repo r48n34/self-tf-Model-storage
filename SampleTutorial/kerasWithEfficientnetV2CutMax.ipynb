{
  "nbformat": 4,
  "nbformat_minor": 0,
  "metadata": {
    "colab": {
      "name": "kerasWithEfficientnetV2CutMax.ipynb",
      "provenance": [],
      "collapsed_sections": []
    },
    "kernelspec": {
      "name": "python3",
      "display_name": "Python 3"
    },
    "language_info": {
      "name": "python"
    },
    "accelerator": "GPU"
  },
  "cells": [
    {
      "cell_type": "code",
      "metadata": {
        "id": "ihawa4iM6OGc",
        "colab": {
          "base_uri": "https://localhost:8080/"
        },
        "outputId": "ada6738d-be1c-48c8-d6a3-60bd4be0bb0a"
      },
      "source": [
        "from google.colab import drive\n",
        "drive.mount('/content/drive')"
      ],
      "execution_count": null,
      "outputs": [
        {
          "output_type": "stream",
          "name": "stdout",
          "text": [
            "Drive already mounted at /content/drive; to attempt to forcibly remount, call drive.mount(\"/content/drive\", force_remount=True).\n"
          ]
        }
      ]
    },
    {
      "cell_type": "code",
      "metadata": {
        "id": "vrGvIkPa6W2s",
        "colab": {
          "base_uri": "https://localhost:8080/"
        },
        "outputId": "a97f54da-7e93-4798-9b25-c0b18d7fb418"
      },
      "source": [
        "gpu_info = !nvidia-smi\n",
        "gpu_info = '\\n'.join(gpu_info)\n",
        "if gpu_info.find('failed') >= 0:\n",
        "  print('Not connected to a GPU')\n",
        "else:\n",
        "  print(gpu_info)"
      ],
      "execution_count": null,
      "outputs": [
        {
          "output_type": "stream",
          "name": "stdout",
          "text": [
            "Sat Sep 18 17:21:50 2021       \n",
            "+-----------------------------------------------------------------------------+\n",
            "| NVIDIA-SMI 470.63.01    Driver Version: 460.32.03    CUDA Version: 11.2     |\n",
            "|-------------------------------+----------------------+----------------------+\n",
            "| GPU  Name        Persistence-M| Bus-Id        Disp.A | Volatile Uncorr. ECC |\n",
            "| Fan  Temp  Perf  Pwr:Usage/Cap|         Memory-Usage | GPU-Util  Compute M. |\n",
            "|                               |                      |               MIG M. |\n",
            "|===============================+======================+======================|\n",
            "|   0  Tesla T4            Off  | 00000000:00:04.0 Off |                    0 |\n",
            "| N/A   62C    P0    28W /  70W |  14586MiB / 15109MiB |      0%      Default |\n",
            "|                               |                      |                  N/A |\n",
            "+-------------------------------+----------------------+----------------------+\n",
            "                                                                               \n",
            "+-----------------------------------------------------------------------------+\n",
            "| Processes:                                                                  |\n",
            "|  GPU   GI   CI        PID   Type   Process name                  GPU Memory |\n",
            "|        ID   ID                                                   Usage      |\n",
            "|=============================================================================|\n",
            "|  No running processes found                                                 |\n",
            "+-----------------------------------------------------------------------------+\n"
          ]
        }
      ]
    },
    {
      "cell_type": "code",
      "metadata": {
        "id": "zhBfLrdG9SaM",
        "colab": {
          "base_uri": "https://localhost:8080/"
        },
        "outputId": "b1ae40a4-9f49-4536-994b-8bf71fd5bb76"
      },
      "source": [
        "# https://github.com/leondgarse/keras_efficientnet_v2\n",
        "!pip install -U keras-efficientnet-v2"
      ],
      "execution_count": null,
      "outputs": [
        {
          "output_type": "stream",
          "name": "stdout",
          "text": [
            "Requirement already satisfied: keras-efficientnet-v2 in /usr/local/lib/python3.7/dist-packages (1.1.4)\n",
            "Requirement already satisfied: tensorflow in /usr/local/lib/python3.7/dist-packages (from keras-efficientnet-v2) (2.6.0)\n",
            "Requirement already satisfied: typing-extensions~=3.7.4 in /usr/local/lib/python3.7/dist-packages (from tensorflow->keras-efficientnet-v2) (3.7.4.3)\n",
            "Requirement already satisfied: flatbuffers~=1.12.0 in /usr/local/lib/python3.7/dist-packages (from tensorflow->keras-efficientnet-v2) (1.12)\n",
            "Requirement already satisfied: tensorflow-estimator~=2.6 in /usr/local/lib/python3.7/dist-packages (from tensorflow->keras-efficientnet-v2) (2.6.0)\n",
            "Requirement already satisfied: clang~=5.0 in /usr/local/lib/python3.7/dist-packages (from tensorflow->keras-efficientnet-v2) (5.0)\n",
            "Requirement already satisfied: numpy~=1.19.2 in /usr/local/lib/python3.7/dist-packages (from tensorflow->keras-efficientnet-v2) (1.19.5)\n",
            "Requirement already satisfied: google-pasta~=0.2 in /usr/local/lib/python3.7/dist-packages (from tensorflow->keras-efficientnet-v2) (0.2.0)\n",
            "Requirement already satisfied: opt-einsum~=3.3.0 in /usr/local/lib/python3.7/dist-packages (from tensorflow->keras-efficientnet-v2) (3.3.0)\n",
            "Requirement already satisfied: six~=1.15.0 in /usr/local/lib/python3.7/dist-packages (from tensorflow->keras-efficientnet-v2) (1.15.0)\n",
            "Requirement already satisfied: tensorboard~=2.6 in /usr/local/lib/python3.7/dist-packages (from tensorflow->keras-efficientnet-v2) (2.6.0)\n",
            "Requirement already satisfied: keras-preprocessing~=1.1.2 in /usr/local/lib/python3.7/dist-packages (from tensorflow->keras-efficientnet-v2) (1.1.2)\n",
            "Requirement already satisfied: absl-py~=0.10 in /usr/local/lib/python3.7/dist-packages (from tensorflow->keras-efficientnet-v2) (0.12.0)\n",
            "Requirement already satisfied: wheel~=0.35 in /usr/local/lib/python3.7/dist-packages (from tensorflow->keras-efficientnet-v2) (0.37.0)\n",
            "Requirement already satisfied: h5py~=3.1.0 in /usr/local/lib/python3.7/dist-packages (from tensorflow->keras-efficientnet-v2) (3.1.0)\n",
            "Requirement already satisfied: termcolor~=1.1.0 in /usr/local/lib/python3.7/dist-packages (from tensorflow->keras-efficientnet-v2) (1.1.0)\n",
            "Requirement already satisfied: gast==0.4.0 in /usr/local/lib/python3.7/dist-packages (from tensorflow->keras-efficientnet-v2) (0.4.0)\n",
            "Requirement already satisfied: astunparse~=1.6.3 in /usr/local/lib/python3.7/dist-packages (from tensorflow->keras-efficientnet-v2) (1.6.3)\n",
            "Requirement already satisfied: keras~=2.6 in /usr/local/lib/python3.7/dist-packages (from tensorflow->keras-efficientnet-v2) (2.6.0)\n",
            "Requirement already satisfied: grpcio<2.0,>=1.37.0 in /usr/local/lib/python3.7/dist-packages (from tensorflow->keras-efficientnet-v2) (1.40.0)\n",
            "Requirement already satisfied: protobuf>=3.9.2 in /usr/local/lib/python3.7/dist-packages (from tensorflow->keras-efficientnet-v2) (3.17.3)\n",
            "Requirement already satisfied: wrapt~=1.12.1 in /usr/local/lib/python3.7/dist-packages (from tensorflow->keras-efficientnet-v2) (1.12.1)\n",
            "Requirement already satisfied: cached-property in /usr/local/lib/python3.7/dist-packages (from h5py~=3.1.0->tensorflow->keras-efficientnet-v2) (1.5.2)\n",
            "Requirement already satisfied: setuptools>=41.0.0 in /usr/local/lib/python3.7/dist-packages (from tensorboard~=2.6->tensorflow->keras-efficientnet-v2) (57.4.0)\n",
            "Requirement already satisfied: requests<3,>=2.21.0 in /usr/local/lib/python3.7/dist-packages (from tensorboard~=2.6->tensorflow->keras-efficientnet-v2) (2.23.0)\n",
            "Requirement already satisfied: werkzeug>=0.11.15 in /usr/local/lib/python3.7/dist-packages (from tensorboard~=2.6->tensorflow->keras-efficientnet-v2) (1.0.1)\n",
            "Requirement already satisfied: google-auth-oauthlib<0.5,>=0.4.1 in /usr/local/lib/python3.7/dist-packages (from tensorboard~=2.6->tensorflow->keras-efficientnet-v2) (0.4.6)\n",
            "Requirement already satisfied: google-auth<2,>=1.6.3 in /usr/local/lib/python3.7/dist-packages (from tensorboard~=2.6->tensorflow->keras-efficientnet-v2) (1.35.0)\n",
            "Requirement already satisfied: markdown>=2.6.8 in /usr/local/lib/python3.7/dist-packages (from tensorboard~=2.6->tensorflow->keras-efficientnet-v2) (3.3.4)\n",
            "Requirement already satisfied: tensorboard-data-server<0.7.0,>=0.6.0 in /usr/local/lib/python3.7/dist-packages (from tensorboard~=2.6->tensorflow->keras-efficientnet-v2) (0.6.1)\n",
            "Requirement already satisfied: tensorboard-plugin-wit>=1.6.0 in /usr/local/lib/python3.7/dist-packages (from tensorboard~=2.6->tensorflow->keras-efficientnet-v2) (1.8.0)\n",
            "Requirement already satisfied: pyasn1-modules>=0.2.1 in /usr/local/lib/python3.7/dist-packages (from google-auth<2,>=1.6.3->tensorboard~=2.6->tensorflow->keras-efficientnet-v2) (0.2.8)\n",
            "Requirement already satisfied: cachetools<5.0,>=2.0.0 in /usr/local/lib/python3.7/dist-packages (from google-auth<2,>=1.6.3->tensorboard~=2.6->tensorflow->keras-efficientnet-v2) (4.2.2)\n",
            "Requirement already satisfied: rsa<5,>=3.1.4 in /usr/local/lib/python3.7/dist-packages (from google-auth<2,>=1.6.3->tensorboard~=2.6->tensorflow->keras-efficientnet-v2) (4.7.2)\n",
            "Requirement already satisfied: requests-oauthlib>=0.7.0 in /usr/local/lib/python3.7/dist-packages (from google-auth-oauthlib<0.5,>=0.4.1->tensorboard~=2.6->tensorflow->keras-efficientnet-v2) (1.3.0)\n",
            "Requirement already satisfied: importlib-metadata in /usr/local/lib/python3.7/dist-packages (from markdown>=2.6.8->tensorboard~=2.6->tensorflow->keras-efficientnet-v2) (4.8.1)\n",
            "Requirement already satisfied: pyasn1<0.5.0,>=0.4.6 in /usr/local/lib/python3.7/dist-packages (from pyasn1-modules>=0.2.1->google-auth<2,>=1.6.3->tensorboard~=2.6->tensorflow->keras-efficientnet-v2) (0.4.8)\n",
            "Requirement already satisfied: idna<3,>=2.5 in /usr/local/lib/python3.7/dist-packages (from requests<3,>=2.21.0->tensorboard~=2.6->tensorflow->keras-efficientnet-v2) (2.10)\n",
            "Requirement already satisfied: urllib3!=1.25.0,!=1.25.1,<1.26,>=1.21.1 in /usr/local/lib/python3.7/dist-packages (from requests<3,>=2.21.0->tensorboard~=2.6->tensorflow->keras-efficientnet-v2) (1.24.3)\n",
            "Requirement already satisfied: chardet<4,>=3.0.2 in /usr/local/lib/python3.7/dist-packages (from requests<3,>=2.21.0->tensorboard~=2.6->tensorflow->keras-efficientnet-v2) (3.0.4)\n",
            "Requirement already satisfied: certifi>=2017.4.17 in /usr/local/lib/python3.7/dist-packages (from requests<3,>=2.21.0->tensorboard~=2.6->tensorflow->keras-efficientnet-v2) (2021.5.30)\n",
            "Requirement already satisfied: oauthlib>=3.0.0 in /usr/local/lib/python3.7/dist-packages (from requests-oauthlib>=0.7.0->google-auth-oauthlib<0.5,>=0.4.1->tensorboard~=2.6->tensorflow->keras-efficientnet-v2) (3.1.1)\n",
            "Requirement already satisfied: zipp>=0.5 in /usr/local/lib/python3.7/dist-packages (from importlib-metadata->markdown>=2.6.8->tensorboard~=2.6->tensorflow->keras-efficientnet-v2) (3.5.0)\n"
          ]
        }
      ]
    },
    {
      "cell_type": "code",
      "metadata": {
        "id": "H8TrRhDn6X7s"
      },
      "source": [
        "import keras_efficientnet_v2\n",
        "import tensorflow as tf\n",
        "from tensorflow import keras\n",
        "import tensorflow_datasets as tfds\n",
        "\n",
        "from tensorflow.keras import datasets, layers, models\n",
        "import matplotlib.pyplot as plt\n",
        "import numpy as np\n",
        "import os\n",
        "from datetime import datetime"
      ],
      "execution_count": null,
      "outputs": []
    },
    {
      "cell_type": "code",
      "metadata": {
        "id": "zZxRr6056ZTX",
        "colab": {
          "base_uri": "https://localhost:8080/"
        },
        "outputId": "b179b5a1-c8ce-40e1-a9dc-836994b74b0b"
      },
      "source": [
        "data_dir = \"/content/drive/MyDrive/food\"\n",
        "\n",
        "batch_size = 256\n",
        "imgSize = 224\n",
        "\n",
        "splitRate = 0.2\n",
        "\n",
        "train_ds = tf.keras.preprocessing.image_dataset_from_directory(\n",
        "  data_dir, seed=123, subset=\"training\", validation_split=splitRate,\n",
        "  image_size=(imgSize, imgSize), batch_size=batch_size\n",
        ")\n",
        "\n",
        "valid_ds = tf.keras.preprocessing.image_dataset_from_directory(\n",
        "  data_dir, seed=123, subset=\"validation\", validation_split=splitRate,\n",
        "  image_size=(imgSize, imgSize), batch_size=batch_size\n",
        ")\n",
        "\n",
        "labArr = train_ds.class_names\n",
        "classNum = len(train_ds.class_names)\n",
        "print(train_ds.class_names)"
      ],
      "execution_count": null,
      "outputs": [
        {
          "output_type": "stream",
          "name": "stdout",
          "text": [
            "Found 908 files belonging to 4 classes.\n",
            "Using 727 files for training.\n",
            "Found 908 files belonging to 4 classes.\n",
            "Using 181 files for validation.\n",
            "['SatayBeefNoodle', 'SingaporeStir-friedNoodles', 'Stir-friedBeefNoodle', 'fuknirice']\n"
          ]
        }
      ]
    },
    {
      "cell_type": "code",
      "metadata": {
        "id": "kmHQIn2t6b2_"
      },
      "source": [
        "data_augmentation = keras.Sequential(\n",
        "  [\n",
        "    layers.experimental.preprocessing.RandomFlip(\"horizontal_and_vertical\"),\n",
        "    layers.experimental.preprocessing.RandomRotation(0.1),\n",
        "    layers.experimental.preprocessing.RandomZoom(0.1),\n",
        "    layers.experimental.preprocessing.RandomContrast(0.1),\n",
        "  ]\n",
        ")\n",
        "\n",
        "resize_and_rescale = tf.keras.Sequential([\n",
        "  layers.experimental.preprocessing.Resizing(imgSize, imgSize),\n",
        "  layers.experimental.preprocessing.Rescaling(1./127.5, offset=-1)\n",
        "])"
      ],
      "execution_count": null,
      "outputs": []
    },
    {
      "cell_type": "code",
      "metadata": {
        "id": "AkCf1D726dFG"
      },
      "source": [
        "expendRound = 2\n",
        "temp_ds = train_ds\n",
        "for i in range(expendRound):\n",
        "    train_ds = train_ds.concatenate(temp_ds)\n",
        "\n",
        "#train_ds = train_ds.map(lambda image,label:(data_augmentation(image),label))\n",
        "\n",
        "train_ds = train_ds.map(lambda image,label:(resize_and_rescale(image),label))\n",
        "valid_ds = valid_ds.map(lambda image,label:(resize_and_rescale(image),label))\n",
        "\n",
        "train_ds_Conbine = tf.data.Dataset.zip((train_ds, train_ds))"
      ],
      "execution_count": null,
      "outputs": []
    },
    {
      "cell_type": "code",
      "metadata": {
        "id": "rJRkhJ3vUZMI"
      },
      "source": [
        "# Cutmix distribution\n",
        "def sample_beta_distribution(size, concentration_0=0.2, concentration_1=0.2):\n",
        "    gamma_1_sample = tf.random.gamma(shape=[size], alpha=concentration_1)\n",
        "    gamma_2_sample = tf.random.gamma(shape=[size], alpha=concentration_0)\n",
        "    return gamma_1_sample / (gamma_1_sample + gamma_2_sample)\n",
        "\n",
        "# Cutmix box generator\n",
        "def get_box(lambda_value):\n",
        "    cut_rat = tf.math.sqrt(1.0 - lambda_value)\n",
        "\n",
        "    cut_w = imgSize * cut_rat  # rw\n",
        "    cut_w = tf.cast(cut_w, tf.int32)\n",
        "\n",
        "    cut_h = imgSize * cut_rat  # rh\n",
        "    cut_h = tf.cast(cut_h, tf.int32)\n",
        "\n",
        "    cut_x = tf.random.uniform((1,), minval=0, maxval=imgSize, dtype=tf.int32)  # rx\n",
        "    cut_y = tf.random.uniform((1,), minval=0, maxval=imgSize, dtype=tf.int32)  # ry\n",
        "\n",
        "    boundaryx1 = tf.clip_by_value(cut_x[0] - cut_w // 2, 0, imgSize)\n",
        "    boundaryy1 = tf.clip_by_value(cut_y[0] - cut_h // 2, 0, imgSize)\n",
        "    bbx2 = tf.clip_by_value(cut_x[0] + cut_w // 2, 0, imgSize)\n",
        "    bby2 = tf.clip_by_value(cut_y[0] + cut_h // 2, 0, imgSize)\n",
        "\n",
        "    target_h = bby2 - boundaryy1\n",
        "    if target_h == 0:\n",
        "        target_h += 1\n",
        "\n",
        "    target_w = bbx2 - boundaryx1\n",
        "    if target_w == 0:\n",
        "        target_w += 1\n",
        "\n",
        "    return boundaryx1, boundaryy1, target_h, target_w\n",
        "\n",
        "def cutmix(train_ds_one, train_ds_two):\n",
        "    (image1, label1), (image2, label2) = train_ds_one, train_ds_two\n",
        "\n",
        "    alpha = [0.25]\n",
        "    beta = [0.25]\n",
        "\n",
        "    # Get a sample from the Beta distribution\n",
        "    lambda_value = sample_beta_distribution(1, alpha, beta)\n",
        "\n",
        "    # Define Lambda\n",
        "    lambda_value = lambda_value[0][0]\n",
        "\n",
        "    # Get the bounding box offsets, heights and widths\n",
        "    boundaryx1, boundaryy1, target_h, target_w = get_box(lambda_value)\n",
        "\n",
        "    # Get a patch from the second image (`image2`)\n",
        "    crop2 = tf.image.crop_to_bounding_box(\n",
        "        image2, boundaryy1, boundaryx1, target_h, target_w\n",
        "    )\n",
        "    # Pad the `image2` patch (`crop2`) with the same offset\n",
        "    image2 = tf.image.pad_to_bounding_box(\n",
        "        crop2, boundaryy1, boundaryx1, imgSize, imgSize\n",
        "    )\n",
        "    # Get a patch from the first image (`image1`)\n",
        "    crop1 = tf.image.crop_to_bounding_box(\n",
        "        image1, boundaryy1, boundaryx1, target_h, target_w\n",
        "    )\n",
        "    # Pad the `image1` patch (`crop1`) with the same offset\n",
        "    img1 = tf.image.pad_to_bounding_box(\n",
        "        crop1, boundaryy1, boundaryx1, imgSize, imgSize\n",
        "    )\n",
        "\n",
        "    # Modify the first image by subtracting the patch from `image1`\n",
        "    # (before applying the `image2` patch)\n",
        "    image1 = image1 - img1\n",
        "    # Add the modified `image1` and `image2`  together to get the CutMix image\n",
        "    image = image1 + image2\n",
        "\n",
        "    # Adjust Lambda in accordance to the pixel ration\n",
        "    lambda_value = 1 - (target_w * target_h) / (imgSize * imgSize)\n",
        "    lambda_value = tf.cast(lambda_value, tf.float32)\n",
        "\n",
        "    # Combine the labels of both images\n",
        "    #label = lambda_value * label1 + (1 - lambda_value) * label2\n",
        "\n",
        "    return image, label1"
      ],
      "execution_count": null,
      "outputs": []
    },
    {
      "cell_type": "code",
      "metadata": {
        "id": "VBq4Vp01Ud9Q"
      },
      "source": [
        "train_ds_cmu = train_ds_Conbine.map(cutmix)\n",
        "\n",
        "# plt.figure(figsize=(10, 10))\n",
        "\n",
        "# for images, labels in train_ds_cmu.take(1):\n",
        "#   labelArr = labels.numpy()\n",
        "#   for i in range(12):\n",
        "#     ax = plt.subplot(3, 4, i + 1)\n",
        "#     plt.imshow(images[i].numpy().astype(\"uint8\"))\n",
        "#     plt.title( labArr[labelArr[i]] )\n",
        "#     plt.axis(\"off\")\n",
        "\n",
        "# plt.show()"
      ],
      "execution_count": null,
      "outputs": []
    },
    {
      "cell_type": "code",
      "metadata": {
        "id": "8njvyPhk6gK3",
        "colab": {
          "base_uri": "https://localhost:8080/"
        },
        "outputId": "849fbd27-aa99-4597-cb04-1440ad4a1b3b"
      },
      "source": [
        "baseModel = keras_efficientnet_v2.EfficientNetV1B0(pretrained=\"noisy_student\", num_classes=classNum, drop_connect_rate=0.4)\n",
        "\n",
        "baseModel.trainable = True\n",
        "print(\"Layers count\", len(baseModel.layers))\n",
        "\n",
        "fine_tune_at = int( len(baseModel.layers) * 0.2) # 20\n",
        "for layer in baseModel.layers[:fine_tune_at]:\n",
        "  layer.trainable = False\n",
        "  \n",
        "epochsRound = 15\n",
        "base_learning_rate = 0.0001\n",
        "\n",
        "checkpoint_filepath = './tmp/checkpoint'\n",
        "model_checkpoint_callback = tf.keras.callbacks.ModelCheckpoint(\n",
        "    filepath=checkpoint_filepath,\n",
        "    save_weights_only=True,\n",
        "    monitor='val_accuracy',\n",
        "    mode='max',\n",
        "    save_best_only=True\n",
        ")\n",
        "\n",
        "baseModel.compile(optimizer=tf.keras.optimizers.Adam(lr=base_learning_rate),\n",
        "              loss=tf.keras.losses.SparseCategoricalCrossentropy(from_logits=True),\n",
        "              metrics=['accuracy'])\n",
        "\n",
        "history = baseModel.fit(train_ds_cmu, epochs=epochsRound, validation_data=valid_ds, callbacks=[model_checkpoint_callback] )\n",
        "\n",
        "test_loss, test_acc = baseModel.evaluate(valid_ds, verbose=2)\n",
        "print(test_acc)\n",
        "\n",
        "\n",
        "now = datetime.now()\n",
        "current_time = now.strftime(\"%b-%d-%Y_%H:%M:%S\")\n",
        "srt = \"/content/drive/MyDrive/savedModel/\" + \"effV1B0\" + current_time + \".h5\"\n",
        "\n",
        "baseModel.load_weights(checkpoint_filepath)\n",
        "baseModel.save(srt)"
      ],
      "execution_count": null,
      "outputs": [
        {
          "output_type": "stream",
          "name": "stdout",
          "text": [
            ">>>> Load pretrained from: /root/.keras/models/efficientnetv2/efficientnetv1-b0-noisy_student.h5\n",
            "WARNING:tensorflow:Skipping loading of weights for layer predictions due to mismatch in shape ((1280, 4) vs (1280, 1000)).\n",
            "WARNING:tensorflow:Skipping loading of weights for layer predictions due to mismatch in shape ((4,) vs (1000,)).\n",
            "Layers count 249\n"
          ]
        },
        {
          "output_type": "stream",
          "name": "stderr",
          "text": [
            "/usr/local/lib/python3.7/dist-packages/keras/optimizer_v2/optimizer_v2.py:356: UserWarning: The `lr` argument is deprecated, use `learning_rate` instead.\n",
            "  \"The `lr` argument is deprecated, use `learning_rate` instead.\")\n"
          ]
        },
        {
          "output_type": "stream",
          "name": "stdout",
          "text": [
            "Epoch 1/15\n"
          ]
        },
        {
          "output_type": "stream",
          "name": "stderr",
          "text": [
            "/usr/local/lib/python3.7/dist-packages/keras/backend.py:4907: UserWarning: \"`sparse_categorical_crossentropy` received `from_logits=True`, but the `output` argument was produced by a sigmoid or softmax activation and thus does not represent logits. Was this intended?\"\n",
            "  '\"`sparse_categorical_crossentropy` received `from_logits=True`, but '\n"
          ]
        },
        {
          "output_type": "stream",
          "name": "stdout",
          "text": [
            "9/9 [==============================] - 33s 2s/step - loss: 1.3837 - accuracy: 0.3022 - val_loss: 1.2774 - val_accuracy: 0.4199\n",
            "Epoch 2/15\n",
            "9/9 [==============================] - 18s 2s/step - loss: 1.2979 - accuracy: 0.4191 - val_loss: 1.0769 - val_accuracy: 0.6740\n",
            "Epoch 3/15\n",
            "9/9 [==============================] - 18s 2s/step - loss: 1.1616 - accuracy: 0.5397 - val_loss: 0.8865 - val_accuracy: 0.8122\n",
            "Epoch 4/15\n",
            "9/9 [==============================] - 18s 2s/step - loss: 0.9752 - accuracy: 0.6864 - val_loss: 0.6563 - val_accuracy: 0.8785\n",
            "Epoch 5/15\n",
            "9/9 [==============================] - 18s 2s/step - loss: 1.0050 - accuracy: 0.6094 - val_loss: 0.5495 - val_accuracy: 0.8895\n",
            "Epoch 6/15\n",
            "9/9 [==============================] - 18s 2s/step - loss: 0.9975 - accuracy: 0.6158 - val_loss: 0.5045 - val_accuracy: 0.8840\n",
            "Epoch 7/15\n",
            "9/9 [==============================] - 18s 2s/step - loss: 0.8049 - accuracy: 0.7088 - val_loss: 0.4874 - val_accuracy: 0.8840\n",
            "Epoch 8/15\n",
            "9/9 [==============================] - 18s 2s/step - loss: 0.5971 - accuracy: 0.8267 - val_loss: 0.4035 - val_accuracy: 0.9061\n",
            "Epoch 9/15\n",
            "9/9 [==============================] - 18s 2s/step - loss: 0.9768 - accuracy: 0.6589 - val_loss: 0.3751 - val_accuracy: 0.9006\n",
            "Epoch 10/15\n",
            "9/9 [==============================] - 18s 2s/step - loss: 0.5491 - accuracy: 0.8125 - val_loss: 0.3837 - val_accuracy: 0.9006\n",
            "Epoch 11/15\n",
            "9/9 [==============================] - 18s 2s/step - loss: 0.8315 - accuracy: 0.7130 - val_loss: 0.3979 - val_accuracy: 0.8785\n",
            "Epoch 12/15\n",
            "9/9 [==============================] - 18s 2s/step - loss: 0.7881 - accuracy: 0.7331 - val_loss: 0.5218 - val_accuracy: 0.8508\n",
            "Epoch 13/15\n",
            "9/9 [==============================] - 18s 2s/step - loss: 0.6977 - accuracy: 0.7703 - val_loss: 0.5099 - val_accuracy: 0.8508\n",
            "Epoch 14/15\n",
            "9/9 [==============================] - 18s 2s/step - loss: 0.7523 - accuracy: 0.7212 - val_loss: 0.4601 - val_accuracy: 0.8619\n",
            "Epoch 15/15\n",
            "9/9 [==============================] - 18s 2s/step - loss: 0.4866 - accuracy: 0.8537 - val_loss: 0.3554 - val_accuracy: 0.9116\n",
            "1/1 - 1s - loss: 0.3554 - accuracy: 0.9116\n",
            "0.9116021990776062\n"
          ]
        },
        {
          "output_type": "stream",
          "name": "stderr",
          "text": [
            "/usr/local/lib/python3.7/dist-packages/keras/utils/generic_utils.py:497: CustomMaskWarning: Custom mask layers require a config and must override get_config. When loading, the custom mask layer must be passed to the custom_objects argument.\n",
            "  category=CustomMaskWarning)\n"
          ]
        }
      ]
    },
    {
      "cell_type": "code",
      "metadata": {
        "id": "Gpb3V8qE6iGR",
        "colab": {
          "base_uri": "https://localhost:8080/",
          "height": 499
        },
        "outputId": "66fa4889-884d-4fcc-eb54-34d361910433"
      },
      "source": [
        "acc = history.history['accuracy']\n",
        "val_acc = history.history['val_accuracy']\n",
        "loss = history.history['loss']\n",
        "val_loss = history.history['val_loss']\n",
        "\n",
        "epochs_range = range(epochsRound)\n",
        "\n",
        "plt.figure(figsize=(8, 8))\n",
        "plt.subplot(1, 2, 1)\n",
        "plt.plot(epochs_range, acc, label='Training Accuracy')\n",
        "plt.plot(epochs_range, val_acc, label='Validation Accuracy')\n",
        "plt.legend(loc='lower right')\n",
        "plt.title('Training and Validation Accuracy')\n",
        "\n",
        "plt.subplot(1, 2, 2)\n",
        "plt.plot(epochs_range, loss, label='Training Loss')\n",
        "plt.plot(epochs_range, val_loss, label='Validation Loss')\n",
        "plt.legend(loc='upper right')\n",
        "plt.title('Training and Validation Loss')\n",
        "plt.show()"
      ],
      "execution_count": null,
      "outputs": [
        {
          "output_type": "display_data",
          "data": {
            "image/png": "[encoded data removed]",
            "text/plain": [
              "<Figure size 576x576 with 2 Axes>"
            ]
          },
          "metadata": {
            "needs_background": "light"
          }
        }
      ]
    },
    {
      "cell_type": "markdown",
      "metadata": {
        "id": "01BVRXZ_879x"
      },
      "source": [
        "# References  \n",
        "\n",
        "1. Keras EfficientNetV2:  \n",
        "https://github.com/leondgarse/keras_efficientnet_v2  \n",
        "2. Transfer learning and fine-tuning  \n",
        "https://www.tensorflow.org/tutorials/images/transfer_learning?hl=zh-tw  \n",
        "3. CutMix data augmentation for image classification:  \n",
        "https://keras.io/examples/vision/cutmix/ \n"
      ]
    }
  ]
}