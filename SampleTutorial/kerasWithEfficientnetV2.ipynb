{
  "nbformat": 4,
  "nbformat_minor": 0,
  "metadata": {
    "colab": {
      "name": "kerasWithEfficientnetV2.ipynb",
      "provenance": [],
      "collapsed_sections": []
    },
    "kernelspec": {
      "name": "python3",
      "display_name": "Python 3"
    },
    "language_info": {
      "name": "python"
    },
    "accelerator": "GPU"
  },
  "cells": [
    {
      "cell_type": "code",
      "metadata": {
        "id": "ihawa4iM6OGc"
      },
      "source": [
        "from google.colab import drive\n",
        "drive.mount('/content/drive')"
      ],
      "execution_count": null,
      "outputs": []
    },
    {
      "cell_type": "code",
      "metadata": {
        "id": "vrGvIkPa6W2s"
      },
      "source": [
        "gpu_info = !nvidia-smi\n",
        "gpu_info = '\\n'.join(gpu_info)\n",
        "if gpu_info.find('failed') >= 0:\n",
        "  print('Not connected to a GPU')\n",
        "else:\n",
        "  print(gpu_info)"
      ],
      "execution_count": null,
      "outputs": []
    },
    {
      "cell_type": "code",
      "metadata": {
        "id": "zhBfLrdG9SaM"
      },
      "source": [
        "# https://github.com/leondgarse/keras_efficientnet_v2\n",
        "!pip install -U keras-efficientnet-v2"
      ],
      "execution_count": null,
      "outputs": []
    },
    {
      "cell_type": "code",
      "metadata": {
        "id": "H8TrRhDn6X7s"
      },
      "source": [
        "import keras_efficientnet_v2\n",
        "import tensorflow as tf\n",
        "from tensorflow import keras\n",
        "import tensorflow_datasets as tfds\n",
        "\n",
        "from tensorflow.keras import datasets, layers, models\n",
        "import matplotlib.pyplot as plt\n",
        "import numpy as np\n",
        "import os\n",
        "from datetime import datetime"
      ],
      "execution_count": 16,
      "outputs": []
    },
    {
      "cell_type": "code",
      "metadata": {
        "id": "zZxRr6056ZTX"
      },
      "source": [
        "data_dir = \"/content/drive/MyDrive/food\"\n",
        "\n",
        "batch_size = 128\n",
        "imgSize = 224\n",
        "\n",
        "splitRate = 0.2\n",
        "\n",
        "train_ds = tf.keras.preprocessing.image_dataset_from_directory(\n",
        "  data_dir, seed=123, subset=\"training\", validation_split=splitRate,\n",
        "  image_size=(imgSize, imgSize), batch_size=batch_size\n",
        ")\n",
        "\n",
        "valid_ds = tf.keras.preprocessing.image_dataset_from_directory(\n",
        "  data_dir, seed=123, subset=\"validation\", validation_split=splitRate,\n",
        "  image_size=(imgSize, imgSize), batch_size=batch_size\n",
        ")\n",
        "\n",
        "classNum = len(train_ds.class_names)\n",
        "print(train_ds.class_names)"
      ],
      "execution_count": null,
      "outputs": []
    },
    {
      "cell_type": "code",
      "metadata": {
        "id": "kmHQIn2t6b2_"
      },
      "source": [
        "data_augmentation = keras.Sequential(\n",
        "  [\n",
        "    layers.experimental.preprocessing.RandomFlip(\"horizontal_and_vertical\"),\n",
        "    layers.experimental.preprocessing.RandomRotation(0.1),\n",
        "    layers.experimental.preprocessing.RandomZoom(0.1),\n",
        "    layers.experimental.preprocessing.RandomContrast(0.1),\n",
        "\n",
        "  ]\n",
        ")\n",
        "\n",
        "resize_and_rescale = tf.keras.Sequential([\n",
        "  layers.experimental.preprocessing.Resizing(imgSize, imgSize),\n",
        "  layers.experimental.preprocessing.Rescaling(1./127.5, offset=-1)\n",
        "])"
      ],
      "execution_count": 18,
      "outputs": []
    },
    {
      "cell_type": "code",
      "metadata": {
        "id": "AkCf1D726dFG"
      },
      "source": [
        "expendRound = 3\n",
        "temp_ds = train_ds\n",
        "for i in range(expendRound):\n",
        "    train_ds = train_ds.concatenate(temp_ds)\n",
        "\n",
        "train_ds = train_ds.map(lambda image,label:(data_augmentation(image),label))\n",
        "train_ds = train_ds.map(lambda image,label:(resize_and_rescale(image),label))\n",
        "\n",
        "valid_ds = valid_ds.map(lambda image,label:(resize_and_rescale(image),label))"
      ],
      "execution_count": 19,
      "outputs": []
    },
    {
      "cell_type": "code",
      "metadata": {
        "id": "8njvyPhk6gK3"
      },
      "source": [
        "baseModel = keras_efficientnet_v2.EfficientNetV1B0(pretrained=\"noisy_student\", num_classes=classNum, drop_connect_rate=0.4)\n",
        "\n",
        "baseModel.trainable = True\n",
        "print(\"Layers count\", len(baseModel.layers))\n",
        "\n",
        "fine_tune_at = int( len(baseModel.layers) * 0.2) # 20\n",
        "for layer in baseModel.layers[:fine_tune_at]:\n",
        "  layer.trainable = False\n",
        "  \n",
        "epochsRound = 9\n",
        "\n",
        "base_learning_rate = 0.0001\n",
        "\n",
        "baseModel.compile(optimizer=tf.keras.optimizers.Adam(lr=base_learning_rate),\n",
        "              loss=tf.keras.losses.SparseCategoricalCrossentropy(from_logits=True),\n",
        "              metrics=['accuracy'])\n",
        "\n",
        "history = baseModel.fit(train_ds, epochs=epochsRound, validation_data=valid_ds )\n",
        "\n",
        "test_loss, test_acc = baseModel.evaluate(valid_ds, verbose=2)\n",
        "print(test_acc)\n",
        "\n",
        "\n",
        "now = datetime.now()\n",
        "current_time = now.strftime(\"%b-%d-%Y_%H:%M:%S\")\n",
        "srt = \"/content/drive/MyDrive/savedModel/\" + \"efficientnetV1B0\" + current_time + \".h5\"\n",
        "\n",
        "baseModel.save(srt)"
      ],
      "execution_count": null,
      "outputs": []
    },
    {
      "cell_type": "code",
      "metadata": {
        "id": "Gpb3V8qE6iGR"
      },
      "source": [
        "acc = history.history['accuracy']\n",
        "val_acc = history.history['val_accuracy']\n",
        "loss = history.history['loss']\n",
        "val_loss = history.history['val_loss']\n",
        "\n",
        "epochs_range = range(epochsRound)\n",
        "\n",
        "plt.figure(figsize=(8, 8))\n",
        "plt.subplot(1, 2, 1)\n",
        "plt.plot(epochs_range, acc, label='Training Accuracy')\n",
        "plt.plot(epochs_range, val_acc, label='Validation Accuracy')\n",
        "plt.legend(loc='lower right')\n",
        "plt.title('Training and Validation Accuracy')\n",
        "\n",
        "plt.subplot(1, 2, 2)\n",
        "plt.plot(epochs_range, loss, label='Training Loss')\n",
        "plt.plot(epochs_range, val_loss, label='Validation Loss')\n",
        "plt.legend(loc='upper right')\n",
        "plt.title('Training and Validation Loss')\n",
        "plt.show()"
      ],
      "execution_count": null,
      "outputs": []
    },
    {
      "cell_type": "markdown",
      "metadata": {
        "id": "01BVRXZ_879x"
      },
      "source": [
        "# References  \n",
        "\n",
        "1. Keras EfficientNetV2:  \n",
        "https://github.com/leondgarse/keras_efficientnet_v2  \n",
        "2. Transfer learning and fine-tuning  \n",
        "https://www.tensorflow.org/tutorials/images/transfer_learning?hl=zh-tw  \n"
      ]
    }
  ]
}