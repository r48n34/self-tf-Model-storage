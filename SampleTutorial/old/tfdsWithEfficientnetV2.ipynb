{
  "nbformat": 4,
  "nbformat_minor": 2,
  "metadata": {
    "colab": {
      "name": "tfdsWithEfficientnetV2.ipynb",
      "provenance": [],
      "collapsed_sections": []
    },
    "kernelspec": {
      "name": "python3",
      "display_name": "Python 3"
    },
    "language_info": {
      "name": "python"
    },
    "accelerator": "GPU"
  },
  "cells": [
    {
      "cell_type": "code",
      "execution_count": null,
      "source": [
        "from google.colab import drive\r\n",
        "drive.mount('/content/drive')"
      ],
      "outputs": [],
      "metadata": {
        "id": "nf9XGUGN3Eif"
      }
    },
    {
      "cell_type": "code",
      "execution_count": null,
      "source": [
        "gpu_info = !nvidia-smi\r\n",
        "gpu_info = '\\n'.join(gpu_info)\r\n",
        "if gpu_info.find('failed') >= 0:\r\n",
        "  print('Not connected to a GPU')\r\n",
        "else:\r\n",
        "  print(gpu_info)"
      ],
      "outputs": [],
      "metadata": {
        "id": "DaKEF90T3NK2"
      }
    },
    {
      "cell_type": "code",
      "execution_count": null,
      "source": [
        "# https://github.com/leondgarse/keras_efficientnet_v2\r\n",
        "!pip install -U keras-efficientnet-v2"
      ],
      "outputs": [],
      "metadata": {
        "id": "l3MCpKXv3OHF"
      }
    },
    {
      "cell_type": "code",
      "execution_count": null,
      "source": [
        "import keras_efficientnet_v2\r\n",
        "import tensorflow as tf\r\n",
        "from tensorflow import keras\r\n",
        "import tensorflow_datasets as tfds\r\n",
        "\r\n",
        "from tensorflow.keras import datasets, layers, models\r\n",
        "import matplotlib.pyplot as plt\r\n",
        "import numpy as np\r\n",
        "from datetime import datetime"
      ],
      "outputs": [],
      "metadata": {
        "id": "HqBqSijC3O8K"
      }
    },
    {
      "cell_type": "code",
      "execution_count": null,
      "source": [
        "batch_size = 512\r\n",
        "imgSize = 224\r\n",
        "\r\n",
        "# Construct a tf.data.Dataset\r\n",
        "(train_ds, valid_ds) , ds_info = tfds.load('food101', split=['train', 'validation'], shuffle_files=True, as_supervised=True, with_info=True)\r\n",
        "\r\n",
        "NUM_CLASSES = ds_info.features[\"label\"].num_classes"
      ],
      "outputs": [],
      "metadata": {
        "id": "uKZH4m_A3STS"
      }
    },
    {
      "cell_type": "code",
      "execution_count": null,
      "source": [
        "data_augmentation = keras.Sequential(\r\n",
        "  [\r\n",
        "    layers.experimental.preprocessing.RandomFlip(\"horizontal_and_vertical\"),\r\n",
        "    layers.experimental.preprocessing.RandomRotation(0.1),\r\n",
        "    layers.experimental.preprocessing.RandomZoom(0.1),\r\n",
        "    layers.experimental.preprocessing.RandomContrast(0.1),\r\n",
        "  ]\r\n",
        ")\r\n",
        "\r\n",
        "resize_and_rescale = tf.keras.Sequential([\r\n",
        "  layers.experimental.preprocessing.Resizing(imgSize, imgSize),\r\n",
        "  layers.experimental.preprocessing.Rescaling(1./127.5, offset=-1)\r\n",
        "])"
      ],
      "outputs": [],
      "metadata": {
        "id": "jSyR6nGY3UlM"
      }
    },
    {
      "cell_type": "code",
      "execution_count": null,
      "source": [
        "expendRound = 1\r\n",
        "temp_ds = train_ds\r\n",
        "for i in range(expendRound):\r\n",
        "    train_ds = train_ds.concatenate(temp_ds)\r\n",
        "\r\n",
        "train_ds = train_ds.map(lambda image,label:(resize_and_rescale(image),label)).shuffle(1024).batch(32)\r\n",
        "train_ds = train_ds.map(lambda image,label:(data_augmentation(image),label))\r\n",
        "\r\n",
        "\r\n",
        "valid_ds = valid_ds.map(lambda image,label:(resize_and_rescale(image),label)).shuffle(1024).batch(32)"
      ],
      "outputs": [],
      "metadata": {
        "id": "fPqYV80k3Ymj"
      }
    },
    {
      "cell_type": "code",
      "execution_count": null,
      "source": [
        "baseModel = keras_efficientnet_v2.EfficientNetV1B0(pretrained=\"noisy_student\", num_classes=NUM_CLASSES, drop_connect_rate=0.3)\r\n",
        "\r\n",
        "baseModel.trainable = True\r\n",
        "print(\"Layers count\", len(baseModel.layers))\r\n",
        "\r\n",
        "fine_tune_at = int( len(baseModel.layers) * 0.50) \r\n",
        "for layer in baseModel.layers[:fine_tune_at]:\r\n",
        "  layer.trainable = False\r\n",
        "  \r\n",
        "epochsRound = 1\r\n",
        "base_learning_rate = 0.001\r\n",
        "\r\n",
        "checkpoint_filepath = './tmp/checkpoint'\r\n",
        "model_checkpoint_callback = tf.keras.callbacks.ModelCheckpoint(\r\n",
        "    filepath=checkpoint_filepath,\r\n",
        "    save_weights_only=True,\r\n",
        "    monitor='val_accuracy',\r\n",
        "    mode='max',\r\n",
        "    save_best_only=True\r\n",
        ")\r\n",
        "\r\n",
        "baseModel.compile(optimizer=tf.keras.optimizers.Adam(lr=base_learning_rate),\r\n",
        "              loss=tf.keras.losses.SparseCategoricalCrossentropy(from_logits=True),\r\n",
        "              metrics=['accuracy'])\r\n",
        "\r\n",
        "history = baseModel.fit(train_ds, epochs=epochsRound, validation_data=valid_ds, callbacks=[model_checkpoint_callback])\r\n",
        "\r\n",
        "\r\n",
        "\r\n",
        "now = datetime.now()\r\n",
        "current_time = now.strftime(\"%b-%d-%Y_%H:%M:%S\")\r\n",
        "srt = \"/content/drive/MyDrive/savedModel/\" + \"efficientnetV1B0\" + current_time + \".h5\"\r\n",
        "\r\n",
        "baseModel.load_weights(checkpoint_filepath)\r\n",
        "\r\n",
        "test_loss, test_acc = baseModel.evaluate(valid_ds, verbose=2)\r\n",
        "print(test_acc)\r\n",
        "\r\n",
        "baseModel.save(srt)"
      ],
      "outputs": [],
      "metadata": {
        "id": "IE0qCfii31Id"
      }
    },
    {
      "cell_type": "code",
      "execution_count": null,
      "source": [
        "acc = history.history['accuracy']\r\n",
        "val_acc = history.history['val_accuracy']\r\n",
        "loss = history.history['loss']\r\n",
        "val_loss = history.history['val_loss']\r\n",
        "\r\n",
        "epochs_range = range(epochsRound)\r\n",
        "\r\n",
        "plt.figure(figsize=(8, 8))\r\n",
        "plt.subplot(1, 2, 1)\r\n",
        "plt.plot(epochs_range, acc, label='Training Accuracy')\r\n",
        "plt.plot(epochs_range, val_acc, label='Validation Accuracy')\r\n",
        "plt.legend(loc='lower right')\r\n",
        "plt.title('Training and Validation Accuracy')\r\n",
        "\r\n",
        "plt.subplot(1, 2, 2)\r\n",
        "plt.plot(epochs_range, loss, label='Training Loss')\r\n",
        "plt.plot(epochs_range, val_loss, label='Validation Loss')\r\n",
        "plt.legend(loc='upper right')\r\n",
        "plt.title('Training and Validation Loss')\r\n",
        "plt.show()"
      ],
      "outputs": [],
      "metadata": {
        "id": "5MLdYRSu4K4V"
      }
    },
    {
      "cell_type": "markdown",
      "source": [
        "# References  \n",
        "\n",
        "1. Keras EfficientNetV2:  \n",
        "https://github.com/leondgarse/keras_efficientnet_v2  \n",
        "2. Transfer learning and fine-tuning  \n",
        "https://www.tensorflow.org/tutorials/images/transfer_learning?hl=zh-tw  \n",
        "3. Training a neural network on MNIST with Keras  \n",
        "https://www.tensorflow.org/datasets/keras_example\n"
      ],
      "metadata": {
        "id": "4IeIFYfS5IYI"
      }
    }
  ]
}