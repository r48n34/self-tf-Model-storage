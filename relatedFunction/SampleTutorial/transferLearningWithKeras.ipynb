{
  "nbformat": 4,
  "nbformat_minor": 0,
  "metadata": {
    "colab": {
      "name": "transferLearningWithKeras.ipynb",
      "provenance": [],
      "collapsed_sections": []
    },
    "kernelspec": {
      "name": "python3",
      "display_name": "Python 3"
    },
    "language_info": {
      "name": "python"
    }
  },
  "cells": [
    {
      "cell_type": "markdown",
      "metadata": {
        "id": "1Ec089HD0Z5g"
      },
      "source": [
        "# Introduce to deep learningin colab environment (runnable)  \n",
        "Last update: (10/9/2021)\n"
      ]
    },
    {
      "cell_type": "code",
      "metadata": {
        "id": "M_gQXgnZ2VoG"
      },
      "source": [
        "gpu_info = !nvidia-smi\n",
        "gpu_info = '\\n'.join(gpu_info)\n",
        "if gpu_info.find('failed') >= 0:\n",
        "  print('Not connected to a GPU')\n",
        "else:\n",
        "  print(gpu_info)"
      ],
      "execution_count": null,
      "outputs": []
    },
    {
      "cell_type": "code",
      "metadata": {
        "id": "L1L8lwTx2TO_"
      },
      "source": [
        "from google.colab import drive\n",
        "drive.mount('/content/drive')"
      ],
      "execution_count": null,
      "outputs": []
    },
    {
      "cell_type": "markdown",
      "metadata": {
        "id": "bQC_TXUJ0qdi"
      },
      "source": [
        "## Import library\n"
      ]
    },
    {
      "cell_type": "code",
      "metadata": {
        "id": "WspCLVtFnEGx"
      },
      "source": [
        "from numpy.core.numeric import False_\n",
        "import tensorflow as tf\n",
        "from tensorflow.keras import datasets, layers, models\n",
        "import matplotlib.pyplot as plt\n",
        "import numpy as np\n",
        "import os\n",
        "\n",
        "from tensorflow import keras\n",
        "from tensorflow.keras.models import Sequential"
      ],
      "execution_count": null,
      "outputs": []
    },
    {
      "cell_type": "markdown",
      "metadata": {
        "id": "d26_Gdx46wGx"
      },
      "source": [
        "## Data import"
      ]
    },
    {
      "cell_type": "code",
      "metadata": {
        "id": "sFPVSZzUnIBK"
      },
      "source": [
        "# Set up your file path \n",
        "data_dir = \"/content/drive/MyDrive/food\"\n",
        "\n",
        "# Change you batch size here\n",
        "# In general, batch_size is depends to your GPU/CPU ability, strong GUP may set a larger number of batch size\n",
        "# From 2,4,8,16,32,64,128,256,512,1023,2048...\n",
        "batch_size = 32\n",
        "\n",
        "# Change you imgSize here\n",
        "# imgSize is depend on model needed. For example, mobienetV3Large accept (224,224,3) shape, so we set 224 here\n",
        "imgSize = 224\n",
        "\n",
        "# split you data into 80% (training) and 20% (validations) for 0.2\n",
        "dataSplitRate = 0.2\n",
        "\n",
        "# Set train dataset\n",
        "train_ds = tf.keras.preprocessing.image_dataset_from_directory(\n",
        "  data_dir, seed=123, subset=\"training\", validation_split=dataSplitRate,\n",
        "  image_size=(imgSize, imgSize), batch_size=batch_size\n",
        ")\n",
        "\n",
        "# Set valid dataset\n",
        "valid_ds = tf.keras.preprocessing.image_dataset_from_directory(\n",
        "  data_dir, seed=123, subset=\"validation\", validation_split=dataSplitRate,\n",
        "  image_size=(imgSize, imgSize), batch_size=batch_size\n",
        ")\n",
        "\n",
        "# print the class info with class array\n",
        "classNum = len(train_ds.class_names)\n",
        "print(train_ds.class_names)\n",
        "\n",
        "# plt the graph\n",
        "plt.figure(figsize=(10, 10))\n",
        "for images, labels in train_ds.take(1):\n",
        "  for i in range(9):\n",
        "    ax = plt.subplot(3, 3, i + 1)\n",
        "    plt.imshow(images[i].numpy().astype(\"uint8\"))\n",
        "    plt.title(train_ds.class_names[labels[i]])\n",
        "    plt.axis(\"off\")\n",
        "\n",
        "plt.show()"
      ],
      "execution_count": null,
      "outputs": []
    },
    {
      "cell_type": "markdown",
      "metadata": {
        "id": "0Bc3sBMX2X0j"
      },
      "source": [
        "## Data augmentation\n",
        "If you own data numbers is quite small, you may apply some more data from random adjust the attributes of the images.    \n",
        "See more ...   \n",
        "https://www.tensorflow.org/api_docs/python/tf/keras/layers/experimental/preprocessing"
      ]
    },
    {
      "cell_type": "code",
      "metadata": {
        "id": "uRPiUiQr2rt1"
      },
      "source": [
        "# method for data transfer, you may adjust here but we stack on this transfer first\n",
        "data_augmentation = keras.Sequential(\n",
        "  [\n",
        "    layers.experimental.preprocessing.RandomFlip(\"horizontal_and_vertical\"),\n",
        "    layers.experimental.preprocessing.RandomRotation(0.1),\n",
        "    layers.experimental.preprocessing.RandomZoom(0.1),\n",
        "  ]\n",
        ")\n",
        "\n",
        "# Data expend for image augmentation, AKA copy and paste your images by times\n",
        "# you may adjust the expendRound numbers here, 0 means no expend\n",
        "expendRound = 1\n",
        "temp_ds = train_ds\n",
        "for i in range(expendRound):\n",
        "    train_ds = train_ds.concatenate(temp_ds)\n",
        "\n",
        "# Apply the data_augmentation to dataset\n",
        "train_ds = train_ds.map(lambda image,label:(data_augmentation(image),label))"
      ],
      "execution_count": null,
      "outputs": []
    },
    {
      "cell_type": "markdown",
      "metadata": {
        "id": "O4cP8kK73Ldy"
      },
      "source": [
        "#Resize and / or rescale\n",
        "Different model may apply to their data structure. For example,MobileNetV3Large accept the color range input [0,255] and (224,224,3) "
      ]
    },
    {
      "cell_type": "code",
      "metadata": {
        "id": "KAtP68J34vUX"
      },
      "source": [
        "resize_and_rescale = tf.keras.Sequential([\n",
        "  layers.experimental.preprocessing.Resizing(imgSize, imgSize),\n",
        "  # In gereral, if the model require [-1,1] or [0,1] input, you may need to able the below line\n",
        "  # NO need to apply Rescaling if model apply [0,255]\n",
        "  #layers.experimental.preprocessing.Rescaling(1./127.5, offset=-1) # [-1,1]\n",
        "  #layers.experimental.preprocessing.Rescaling(1./255) # [0,1]\n",
        "])\n",
        "\n",
        "# Apply the resize_and_rescale to dataset\n",
        "train_ds = train_ds.map(lambda image,label:(resize_and_rescale(image),label))\n",
        "valid_ds = valid_ds.map(lambda image,label:(resize_and_rescale(image),label))"
      ],
      "execution_count": null,
      "outputs": []
    },
    {
      "cell_type": "markdown",
      "metadata": {
        "id": "DX-ZaDTu55ci"
      },
      "source": [
        "**Cont' General references of which model need to be rescale or not**  \n",
        "To specific, 0-255 means the RGB range, not the image size!  (Update 2/9/2021)\n",
        " \n",
        "**[0,255]**  \n",
        "- EfficientNetB0-7  \n",
        "https://www.tensorflow.org/api_docs/python/tf/keras/applications/efficientnet/preprocess_input\n",
        "- MobileNetV3Large / MobileNetV3Small  \n",
        "https://www.tensorflow.org/api_docs/python/tf/keras/applications/mobilenet_v3/preprocess_input  \n",
        "- ResNet50 / ResNet101 / ResNet152 (RGB to BGR**)   \n",
        "https://www.tensorflow.org/api_docs/python/tf/keras/applications/resnet50/preprocess_input  \n",
        "- VGG16 (RGB to BGR**)   \n",
        "https://www.tensorflow.org/api_docs/python/tf/keras/applications/vgg16/preprocess_input  \n",
        "- VGG19 (RGB to BGR**)   \n",
        "https://www.tensorflow.org/api_docs/python/tf/keras/applications/vgg19/preprocess_input\n",
        "\n",
        "\n",
        "**[0,1]**  \n",
        "- DenseNet  \n",
        "https://www.tensorflow.org/api_docs/python/tf/keras/applications/densenet/preprocess_input  \n",
        "\n",
        "\n",
        "**[-1,1]**  \n",
        "- MobileNet  \n",
        "https://www.tensorflow.org/api_docs/python/tf/keras/applications/mobilenet/preprocess_input    \n",
        "- MobileNetV2  \n",
        "https://www.tensorflow.org/api_docs/python/tf/keras/applications/mobilenet_v2/preprocess_input  \n",
        "- NASNetLarge / NASNetMobile  \n",
        "https://www.tensorflow.org/api_docs/python/tf/keras/applications/nasnet/preprocess_input  \n",
        "- InceptionResNetV2  \n",
        "https://www.tensorflow.org/api_docs/python/tf/keras/applications/inception_resnet_v2/preprocess_input  \n",
        "- InceptionV3  \n",
        "https://www.tensorflow.org/api_docs/python/tf/keras/applications/inception_v3/preprocess_input  \n",
        "- ResNet101V2 / ResNet152V2 / ResNet50V2  \n",
        "https://www.tensorflow.org/api_docs/python/tf/keras/applications/resnet_v2/preprocess_input  \n",
        "- Xception  \n",
        "https://www.tensorflow.org/api_docs/python/tf/keras/applications/xception/preprocess_input  \n",
        "\n",
        "See more:  \n",
        "\n",
        "TensorFlow Doc: https://www.tensorflow.org/api_docs/python/tf/keras/applications  \n",
        "Keras Applications: https://keras.io/api/applications/  \n",
        "Model rank: https://paperswithcode.com/sota/image-classification-on-imagenet  \n"
      ]
    },
    {
      "cell_type": "markdown",
      "metadata": {
        "id": "FTlqfJl_16qx"
      },
      "source": [
        "## Set up model\n",
        "you may select a new model here  \n",
        "In general, if we are using the model to learn out dataSet, we should set the include_top=False to apply our top layers\n",
        "You may select the model from:   \n",
        "TF: https://www.tensorflow.org/api_docs/python/tf/keras/applications  \n",
        "Keras: https://keras.io/api/applications/\n",
        "\n",
        "## How to select a good moden for your data\n",
        "In Case, you may see several attributes from keras applications (Parameters, top-1 acc, top-5 acc)  \n",
        "**Parameters**: In general, bigger params model trains a higher accuracy. But takes more computer resources to train or predict inupt data.  \n",
        "**Top-1, Top-5** : The accuracy of predicting a game rules call 'imagenet' with 14,197,122 images for classifications 1000 classes.  \n",
        "Top-1 acc means the first highest possibility label predicts correctly.  \n",
        "Top-5 means the first top 5 possibility included the actual label.\n",
        "\n",
        "For general use, mobienetV3Large, efficientNetB1, efficientNetB2 is good enough for training a light weight and decent accuracy model.  \n",
        "If your GPU is good enough / you have a lot of times, you may select a larger model like EffNetV2-M or EffV1B3 to train your data.  \n",
        "\n",
        "See more: https://github.com/leondgarse/keras_efficientnet_v2\n"
      ]
    },
    {
      "cell_type": "code",
      "metadata": {
        "colab": {
          "base_uri": "https://localhost:8080/"
        },
        "id": "LJnq_v7qxm6M",
        "outputId": "926d338b-cb9a-4ccb-8df8-1cd0738ee67d"
      },
      "source": [
        "baseModel = tf.keras.applications.MobileNetV3Large(input_shape=(imgSize,imgSize,3), include_top=False, weights='imagenet')"
      ],
      "execution_count": null,
      "outputs": [
        {
          "output_type": "stream",
          "name": "stdout",
          "text": [
            "Downloading data from https://storage.googleapis.com/tensorflow/keras-applications/mobilenet_v3/weights_mobilenet_v3_large_224_1.0_float_no_top.h5\n",
            "17612800/17605208 [==============================] - 0s 0us/step\n",
            "17620992/17605208 [==============================] - 0s 0us/step\n"
          ]
        }
      ]
    },
    {
      "cell_type": "markdown",
      "metadata": {
        "id": "tJ3k6dA-7pM_"
      },
      "source": [
        "## Apply our top layer to model\n"
      ]
    },
    {
      "cell_type": "code",
      "metadata": {
        "id": "mi9ATNkhxxK9"
      },
      "source": [
        "model = Sequential([\n",
        "  baseModel,\n",
        "  tf.keras.layers.GlobalAveragePooling2D(),\n",
        "  tf.keras.layers.Dropout(0.1),\n",
        "  tf.keras.layers.Dense(classNum, activation=tf.nn.softmax)\n",
        "])"
      ],
      "execution_count": null,
      "outputs": []
    },
    {
      "cell_type": "markdown",
      "metadata": {
        "id": "a2rv1_Qe6jYv"
      },
      "source": [
        "## fine tune  \n",
        "You will see that in baseModel, we apply the weights='imagenet'.  \n",
        "It means that the model have already trained with imagenet game rules with tuned weights. For out own dataset, we need to apply our own dataset rather than original weights.  \n",
        "Hence, we may lock up the front layer for using original imagenet weights, then set the end layer with learnable weights.    \n",
        "Lockup layers may depends on your own dataset numbers and characteristics(features)."
      ]
    },
    {
      "cell_type": "code",
      "metadata": {
        "colab": {
          "base_uri": "https://localhost:8080/"
        },
        "id": "ubz4WCx5xvNH",
        "outputId": "333d3611-692e-4bb6-f105-c01819f18a6b"
      },
      "source": [
        "baseModel.trainable = True\n",
        "print(\"Layers count\", len(baseModel.layers))\n",
        "\n",
        "fine_tune_at = int( len(baseModel.layers) * 0.7)\n",
        "for layer in baseModel.layers[:fine_tune_at]:\n",
        "  layer.trainable = False"
      ],
      "execution_count": null,
      "outputs": [
        {
          "output_type": "stream",
          "name": "stdout",
          "text": [
            "Layers count 269\n"
          ]
        }
      ]
    },
    {
      "cell_type": "markdown",
      "metadata": {
        "id": "tWrI9slB89qk"
      },
      "source": [
        "## Model training\n",
        "**epochsRound** means rounds that the model will training   \n",
        "**base_learning_rate** means the rate to get to the min loss positions  \n",
        "Usually with 1, 0.1, 0.001, 0.0001, 0.00001\n"
      ]
    },
    {
      "cell_type": "code",
      "metadata": {
        "id": "bWGKqKvYxzOi"
      },
      "source": [
        "epochsRound = 10\n",
        "\n",
        "base_learning_rate = 0.0001\n",
        "model.compile(optimizer=tf.keras.optimizers.Adam(lr=base_learning_rate),\n",
        "              loss=tf.keras.losses.SparseCategoricalCrossentropy(from_logits=True),\n",
        "              metrics=['accuracy'])\n",
        "\n",
        "history = model.fit(train_ds, epochs=epochsRound,validation_data=valid_ds )\n",
        "\n",
        "model.save('yourFirstModel.h5')"
      ],
      "execution_count": null,
      "outputs": []
    },
    {
      "cell_type": "markdown",
      "metadata": {
        "id": "YbFEDwZ3-PLK"
      },
      "source": [
        "## See result"
      ]
    },
    {
      "cell_type": "code",
      "metadata": {
        "id": "CFHqrs0yx5x3"
      },
      "source": [
        "test_loss, test_acc = model.evaluate(valid_ds, verbose=2)\n",
        "print(test_acc)\n",
        "\n",
        "acc = history.history['accuracy']\n",
        "val_acc = history.history['val_accuracy']\n",
        "loss = history.history['loss']\n",
        "val_loss = history.history['val_loss']\n",
        "\n",
        "epochs_range = range(epochsRound)\n",
        "\n",
        "plt.figure(figsize=(8, 8))\n",
        "plt.subplot(1, 2, 1)\n",
        "plt.plot(epochs_range, acc, label='Training Accuracy')\n",
        "plt.plot(epochs_range, val_acc, label='Validation Accuracy')\n",
        "plt.legend(loc='lower right')\n",
        "plt.title('Training and Validation Accuracy')\n",
        "\n",
        "plt.subplot(1, 2, 2)\n",
        "plt.plot(epochs_range, loss, label='Training Loss')\n",
        "plt.plot(epochs_range, val_loss, label='Validation Loss')\n",
        "plt.legend(loc='upper right')\n",
        "plt.title('Training and Validation Loss')\n",
        "plt.show()"
      ],
      "execution_count": null,
      "outputs": []
    },
    {
      "cell_type": "markdown",
      "metadata": {
        "id": "zEZh5jbnyYhc"
      },
      "source": [
        "# Other Section / How to use your model with sanic"
      ]
    },
    {
      "cell_type": "code",
      "metadata": {
        "id": "mXpcB6HwyiWB"
      },
      "source": [
        "# Sanic won't work on colab, but flask can run in colab.\n",
        "# Don't run this on colab environment\n",
        "from sanic import Sanic\n",
        "from sanic.response import json, text\n",
        "from sanic import response\n",
        "import os\n",
        "import aiofiles\n",
        "\n",
        "from keras.models import load_model\n",
        "from PIL import Image, ImageOps\n",
        "import numpy as np\n",
        "import os\n",
        "import tensorflow as tf\n",
        "\n",
        "app = Sanic(\"App Name\")\n",
        "# upload images will be downloaded to your server\n",
        "app.config[\"upload\"] = 'D:\\\\gh code\\\\codeNotes\\\\mlorDl\\\\sanicWebServices\\\\uploads'\n",
        "\n",
        "imgSize = 224\n",
        "\n",
        "label = [\n",
        "'Apple pie','Baby back ribs','Baklava','Beef carpaccio','Beef tartare','Beet salad',\n",
        "'Beignets','Bibimbap','Bread pudding','Breakfast burrito','Bruschetta','Caesar salad',\n",
        "'Cannoli','Caprese salad','Carrot cake','Ceviche','Cheesecake','Cheese plate',\n",
        "'Chicken curry','Chicken quesadilla','Chicken wings','Chocolate cake','Chocolate mousse','Churros',\n",
        "'Clam chowder','Club sandwich','Crab cakes','Creme brulee','Croque madame',\n",
        "'Cup cakes','Deviled eggs','Donuts','Dumplings','Edamame','Eggs benedict',\n",
        "'Escargots','Falafel','Filet mignon','Fish and chips','Foie gras','French fries',\n",
        "'French onion soup','French toast','Fried calamari','Fried rice','Frozen yogurt',\n",
        "'Garlic bread','Gnocchi','Greek salad','Grilled cheese sandwich','Grilled salmon',\n",
        "'Guacamole','Gyoza','Hamburger','Hot and sour soup','Hot dog','Huevos rancheros','Hummus',\n",
        "'Ice cream','Lasagna','Lobster bisque','Lobster roll sandwich','Macaroni and cheese','Macarons',\n",
        "'Miso soup','Mussels','Nachos','Omelette','Onion rings','Oysters','Pad thai','Paella','Pancakes','Panna cotta',\n",
        "'Peking duck','Pho','Pizza','Pork chop','Poutine','Prime rib','Pulled pork sandwich','Ramen','Ravioli','Red velvet cake',\n",
        "'Risotto','Samosa','Sashimi','Scallops','Seaweed salad','Shrimp and grits','Spaghetti bolognese','Spaghetti carbonara',\n",
        "'Spring rolls','Steak','Strawberry shortcake','Sushi','Tacos','Takoyaki','Tiramisu','Tuna tartare','Waffles'\n",
        "]\n",
        "\n",
        "model = load_model(\"D:\\\\efficientnetV1B1Food101.h5\") # Model path\n",
        "\n",
        "if not os.path.exists(app.config[\"upload\"]):\n",
        "    os.makedirs(app.config[\"upload\"])\n",
        "\n",
        "@app.get(\"/\")\n",
        "async def test(request):\n",
        "    return json({\"hello\": \"Ha\"})\n",
        "\n",
        "def getresult(imgName):\n",
        "    imgPath = os.path.join(app.config[\"upload\"], imgName)\n",
        "\n",
        "    image = Image.open(imgPath)\n",
        "    image = ImageOps.fit(image, (imgSize, imgSize) , Image.ANTIALIAS)\n",
        "\n",
        "    data = np.ndarray(shape=(1, imgSize, imgSize, 3), dtype=np.float32)\n",
        "    data[0] = (np.asarray(image).astype(np.float32) / 127.0) - 1 # Mobienetv2 rescale needs to be / 127.0 and -1 => outcome should be between [-1 to 1]\n",
        "    #data[0] = np.asarray(image).astype(np.float32)  # Model no need to be rescale => outcome should be between [0 to 255]\n",
        "\n",
        "    prediction = model.predict(data)\n",
        "    print(label[np.argmax(prediction)])\n",
        "    return prediction\n",
        "\n",
        "# The upload route with POST method\n",
        "@app.route(\"/upload\", methods=['POST'])\n",
        "async def getFiles(request):\n",
        "    fileName = request.files[\"file\"][0].name\n",
        "\n",
        "    async with aiofiles.open(app.config[\"upload\"] + \"/\" + fileName, 'wb' ) as f:\n",
        "        await f.write(request.files[\"file\"][0].body)\n",
        "    f.close()\n",
        "\n",
        "    prediction = getresult(fileName)\n",
        "    return text(label[np.argmax(prediction)])\n",
        "\n",
        "\n",
        "if __name__ == \"__main__\":\n",
        "    app.run(host=\"0.0.0.0\", port=8000)\n",
        "\n"
      ],
      "execution_count": null,
      "outputs": []
    }
  ]
}